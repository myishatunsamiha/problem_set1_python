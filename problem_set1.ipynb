{
 "cells": [
  {
   "cell_type": "code",
   "execution_count": 8,
   "id": "a69bd1a6",
   "metadata": {},
   "outputs": [
    {
     "name": "stdout",
     "output_type": "stream",
     "text": [
      "enter the length of the rectangle: 4.7\n",
      "enter the breadth of the rectangle: 4.8\n",
      "not square\n"
     ]
    }
   ],
   "source": [
    "# 1. Take values of the length & breadth of a rectangle from user input and check if it is square or not\n",
    "length = float(input(\"enter the length of the rectangle: \"));\n",
    "breadth = float(input(\"enter the breadth of the rectangle: \"));\n",
    "\n",
    "if (length == breadth):\n",
    "    print(\"square\");\n",
    "else:\n",
    "    print(\"not square\");"
   ]
  },
  {
   "cell_type": "code",
   "execution_count": 12,
   "id": "b3c28cae",
   "metadata": {},
   "outputs": [
    {
     "name": "stdout",
     "output_type": "stream",
     "text": [
      "enter first number: 23\n",
      "enter second number: 25\n",
      "enter third number: 10\n",
      "25  is greatest\n"
     ]
    }
   ],
   "source": [
    "# 2. Take three integer values from the user and print the greatest among them.\n",
    "n1 = int(input(\"enter first number: \"));\n",
    "n2 = int(input(\"enter second number: \"));\n",
    "n3 = int(input(\"enter third number: \"));\n",
    "\n",
    "if (n1 >= n2 and n1 >= n3):\n",
    "    print(n1, \" is greatest\");\n",
    "elif (n2 >= n1 and n2 >= n3):\n",
    "    print(n2, \" is greatest\");\n",
    "else:\n",
    "    print(n3, \" is greatest\");"
   ]
  },
  {
   "cell_type": "code",
   "execution_count": 15,
   "id": "a187618c",
   "metadata": {},
   "outputs": [
    {
     "name": "stdout",
     "output_type": "stream",
     "text": [
      "enter attendance percentage: .75\n",
      "allowed to sit for exam\n"
     ]
    }
   ],
   "source": [
    "'''\n",
    "3. A student will not\n",
    "be allowed to sit in an exam if his/her attendance is less than 75%\n",
    "'''\n",
    "\n",
    "attendance = float(input(\"enter attendance percentage: \"));\n",
    "if(attendance < 0.75):\n",
    "    print(\"not allowed to sit for exam\");\n",
    "else:\n",
    "    print(\"allowed to sit for exam\");"
   ]
  },
  {
   "cell_type": "code",
   "execution_count": 23,
   "id": "fb4bcff4",
   "metadata": {},
   "outputs": [
    {
     "name": "stdout",
     "output_type": "stream",
     "text": [
      "enter marks: 90\n",
      "A+\n"
     ]
    }
   ],
   "source": [
    "'''\n",
    "4. A school has the following rules for the grading system: \n",
    "Below 25 – F, 25 to 44 – E, 45 to 49 – D, 50 to 59 – C, 60 to 79 – B, 80 to 89 - A, Above 90 - A+\n",
    "Now, Ask the user to enter marks and print the corresponding grade\n",
    "'''\n",
    "\n",
    "score = float(input(\"enter marks: \"));\n",
    "if(score >= 90):\n",
    "    print(\"A+\");\n",
    "elif(score >= 80):\n",
    "    print(\"A\");\n",
    "elif(score >= 60):\n",
    "    print(\"B\");\n",
    "elif(score >= 50):\n",
    "    print(\"C\");\n",
    "elif(score >= 45):\n",
    "    print(\"D\");\n",
    "elif(score >= 25):\n",
    "    print(\"E\");\n",
    "else:\n",
    "    print(\"F\");"
   ]
  },
  {
   "cell_type": "code",
   "execution_count": 29,
   "id": "573ef404",
   "metadata": {},
   "outputs": [
    {
     "name": "stdout",
     "output_type": "stream",
     "text": [
      "1 2 3 4 5 6 7 \n",
      "1 2 3 4 5 6 \n",
      "1 2 3 4 5 \n",
      "1 2 3 4 \n"
     ]
    }
   ],
   "source": [
    "'''\n",
    "5. Print the following pattern using for loop.\n",
    "1 2 3 4 5 6 7\n",
    "1 2 3 4 5 6\n",
    "1 2 3 4 5\n",
    "1 2 3 4\n",
    "'''\n",
    "\n",
    "endNumber=8;\n",
    "for i in range(4): \n",
    "    for j in range(1, endNumber):\n",
    "        print(j, end=\" \")\n",
    "    endNumber -= 1;\n",
    "    print();"
   ]
  },
  {
   "cell_type": "markdown",
   "id": "63ba8278",
   "metadata": {},
   "source": []
  },
  {
   "cell_type": "code",
   "execution_count": 32,
   "id": "d35ea862",
   "metadata": {},
   "outputs": [
    {
     "name": "stdout",
     "output_type": "stream",
     "text": [
      "1 2 3 4 5 6 7 \n",
      "1 2 3 4 5 6 \n",
      "1 2 3 4 5 \n",
      "1 2 3 4 \n"
     ]
    }
   ],
   "source": [
    "'''\n",
    "5. Print the following pattern using while loop.\n",
    "1 2 3 4 5 6 7\n",
    "1 2 3 4 5 6\n",
    "1 2 3 4 5\n",
    "1 2 3 4\n",
    "'''\n",
    "\n",
    "endNumber = 7;\n",
    "\n",
    "i = 1;\n",
    "while i<=4:\n",
    "    j=1;\n",
    "    while j<=endNumber:\n",
    "        print(j, end=\" \");\n",
    "        j += 1;\n",
    "        \n",
    "    print();\n",
    "    endNumber -= 1;\n",
    "    i += 1;"
   ]
  },
  {
   "cell_type": "code",
   "execution_count": 37,
   "id": "c8b1d53a",
   "metadata": {},
   "outputs": [
    {
     "name": "stdout",
     "output_type": "stream",
     "text": [
      "-100 -99 -98 -97 -96 -95 -94 -93 -92 -91 -90 -89 -88 -87 -86 -85 -84 -83 -82 -81 -80 -79 -78 -77 -76 -75 -74 -73 -72 -71 -70 -69 -68 -67 -66 -65 -64 -63 -62 -61 -60 -59 -58 -57 -56 -55 -54 -53 -52 -51 -50 -49 -48 -47 -46 -45 -44 -43 -42 -41 -40 -39 -38 -37 -36 -35 -34 -33 -32 -31 -30 -29 -28 -27 -26 -25 -24 -23 -22 -21 -20 -19 -18 -17 -16 -15 -14 -13 -12 -11 -10 "
     ]
    }
   ],
   "source": [
    "# 6. Display numbers from -100 to -10 using for loop\n",
    "\n",
    "for i in range(-100, -9, 1):\n",
    "    print(i, end=\" \")"
   ]
  },
  {
   "cell_type": "code",
   "execution_count": 42,
   "id": "48b81f64",
   "metadata": {},
   "outputs": [
    {
     "name": "stdout",
     "output_type": "stream",
     "text": [
      "5736379\n"
     ]
    }
   ],
   "source": [
    "# 7. Write a program to sum all prime numbers within a range of 10 to 1000\n",
    "from math import sqrt\n",
    "\n",
    "sum = 0;\n",
    "for num in range(10, 10001):\n",
    "    prime = True;\n",
    "    for i in range(2, int(sqrt(num))+1):\n",
    "        if(num%i == 0):\n",
    "            prime=False;\n",
    "            break;\n",
    "            \n",
    "    if (prime==True):\n",
    "        sum += num;\n",
    "\n",
    "print(sum);"
   ]
  },
  {
   "cell_type": "code",
   "execution_count": 48,
   "id": "627e96ef",
   "metadata": {},
   "outputs": [
    {
     "name": "stdout",
     "output_type": "stream",
     "text": [
      "5040\n"
     ]
    }
   ],
   "source": [
    "# 8. Find the factorial of an n! (Hint, n=7: 7*6*5*4*3*2*1)\n",
    "\n",
    "n = 7;\n",
    "factorial = 1; \n",
    "for i in range(1, n+1):\n",
    "    factorial = factorial * i;\n",
    "\n",
    "print(factorial);"
   ]
  },
  {
   "cell_type": "code",
   "execution_count": 54,
   "id": "4d824830",
   "metadata": {},
   "outputs": [
    {
     "name": "stdout",
     "output_type": "stream",
     "text": [
      "1704265972\n"
     ]
    }
   ],
   "source": [
    "# 9. Reverse a given integer number 27956240710\n",
    "num = 27956240710;\n",
    "n = num;\n",
    "reversedNum = 0;\n",
    "while(n != 0):\n",
    "    rem = n % 10;\n",
    "    reversedNum = reversedNum*10 + rem;\n",
    "    #print(rem)\n",
    "    n = n//10;\n",
    "    \n",
    "print(reversedNum);"
   ]
  },
  {
   "cell_type": "code",
   "execution_count": 56,
   "id": "9e113ea0",
   "metadata": {},
   "outputs": [
    {
     "name": "stdout",
     "output_type": "stream",
     "text": [
      "# # # \n",
      "# # # # \n",
      "# # # \n",
      "# # \n"
     ]
    }
   ],
   "source": [
    "'''\n",
    "10. Print the following pattern using for and while loop.\n",
    "# # #\n",
    "# # # #\n",
    "# # #\n",
    "# #\n",
    "'''\n",
    "\n",
    "for i in range(3):\n",
    "    print(\"#\", end=\" \")\n",
    "print()\n",
    "\n",
    "count = 4;\n",
    "for i in range(3):\n",
    "    for j in range(count):\n",
    "        print(\"#\", end=\" \")\n",
    "    count -= 1;\n",
    "    print();"
   ]
  },
  {
   "cell_type": "code",
   "execution_count": 59,
   "id": "b5be8b88",
   "metadata": {},
   "outputs": [
    {
     "name": "stdout",
     "output_type": "stream",
     "text": [
      "0 1 1 2 3 5 8 13 21 34 55 89 144 233 377 "
     ]
    }
   ],
   "source": [
    "'''\n",
    "11. Display the Fibonacci series of 15 elements using the for and while loop.\n",
    "'''\n",
    "\n",
    "prev1 = 0;\n",
    "prev2 = 1;\n",
    "for count in range(15):\n",
    "    if (count == 0):\n",
    "        print(prev1, end=\" \");\n",
    "    elif (count == 1):\n",
    "        print(prev2, end=\" \");\n",
    "    else:\n",
    "        cur = prev1+prev2;\n",
    "        print(cur, end=\" \");\n",
    "        prev1 = prev2;\n",
    "        prev2 = cur;\n",
    "        \n",
    "\n"
   ]
  },
  {
   "cell_type": "code",
   "execution_count": 74,
   "id": "f59e01ff",
   "metadata": {},
   "outputs": [
    {
     "name": "stdout",
     "output_type": "stream",
     "text": [
      "[1, 3, 5, [3, 3], False]\n"
     ]
    }
   ],
   "source": [
    "'''\n",
    "12. Remove 2 and add 3 to the list and replace True with False.\n",
    "Li = [1,3,5, [2,3], True]\n",
    "Output = [1,3,5, [3,3], False]\n",
    "'''\n",
    "\n",
    "Li = [1,3,5, [2,3], True];\n",
    "\n",
    "for i in range(len(Li)):\n",
    "    \n",
    "    if (type(Li[i]) == list):\n",
    "        for j in range(len(Li[i])):\n",
    "            if (Li[i][j] == 2):\n",
    "                Li[i][j] = 3;\n",
    "                \n",
    "            elif (type(Li[i][j]) == bool and Li[i][j] == True):\n",
    "                Li[i][j] = False;\n",
    "    else:\n",
    "        if (Li[i] == 2):\n",
    "            Li[i] = 3;\n",
    "                \n",
    "        elif (type(Li[i]) == bool and Li[i] == True):\n",
    "            Li[i] = False;\n",
    "                \n",
    "                \n",
    "print(Li);"
   ]
  },
  {
   "cell_type": "code",
   "execution_count": 86,
   "id": "18ebee27",
   "metadata": {},
   "outputs": [
    {
     "name": "stdout",
     "output_type": "stream",
     "text": [
      "{True}\n"
     ]
    }
   ],
   "source": [
    "'''\n",
    "13. Find the intersection (common) of two sets.\n",
    "S1 = {1,4,6,8}\n",
    "S2 = {True, 1,2,10}\n",
    "'''\n",
    "\n",
    "s1 = {1,4,6,8}\n",
    "s2 = {True, 1,2,10}\n",
    "print(s1.intersection(s2));"
   ]
  },
  {
   "cell_type": "code",
   "execution_count": 102,
   "id": "c75f39b5",
   "metadata": {},
   "outputs": [
    {
     "name": "stdout",
     "output_type": "stream",
     "text": [
      "enter size of the list: 10\n",
      "enter list element: 1\n",
      "enter list element: 2\n",
      "enter list element: 56\n",
      "enter list element: 56\n",
      "enter list element: 1\n",
      "enter list element: 2\n",
      "enter list element: 0\n",
      "enter list element: 9\n",
      "enter list element: 38\n",
      "enter list element: 19\n",
      "56.0\n"
     ]
    }
   ],
   "source": [
    "'''\n",
    "14. Input a list from the user then Remove duplicates from a list and create a set and find the max\n",
    "number. User_input = [1,9,3,4,5,200,54]\n",
    "'''\n",
    "size = int(input(\"enter size of the list: \"));\n",
    "user_input = [];\n",
    "for i in range(size):\n",
    "    elem = float(input(\"enter list element: \"));\n",
    "    user_input.insert(i, elem);\n",
    "    \n",
    "# print(user_input);\n",
    "\n",
    "u = set(user_input); # turning list into set which will automatically remove the duplicates\n",
    "#print(u);\n",
    "\n",
    "print(max(u)); # max bulit-in function returns the maximum number of a set\n",
    "\n"
   ]
  },
  {
   "cell_type": "code",
   "execution_count": 108,
   "id": "c9fdaf3c",
   "metadata": {},
   "outputs": [
    {
     "name": "stdout",
     "output_type": "stream",
     "text": [
      "{'name': 'Shakil', 'age': 27, 'city': 'Berlin', 'region': 'Germany'}\n"
     ]
    }
   ],
   "source": [
    "'''\n",
    "15. Rename the key of a dictionary.\n",
    "Dict = { \"name\": \"Shakil\", \"age\":27, \"city\": “Berlin”, \"country\": \"Germany\" } Write a\n",
    "program to rename a key ‘country’ to a ‘region’ in the following dictionary. \n",
    "'''\n",
    "\n",
    "dict = { \"name\": \"Shakil\", \"age\":27, \"city\": \"Berlin\", \"country\": \"Germany\" };\n",
    "dict[\"region\"] = dict[\"country\"];\n",
    "del dict[\"country\"];\n",
    "\n",
    "print(dict);\n"
   ]
  },
  {
   "cell_type": "code",
   "execution_count": 109,
   "id": "735977a0",
   "metadata": {},
   "outputs": [
    {
     "name": "stdout",
     "output_type": "stream",
     "text": [
      "   number\n",
      "0      10\n",
      "1     100\n",
      "2     300\n"
     ]
    }
   ],
   "source": [
    "'''\n",
    "16. Creating a data frame using the list.\n",
    "num = [10,100,300] (column name is number)\n",
    "'''\n",
    "\n",
    "import pandas as p\n",
    "\n",
    "num = [10, 100, 300];\n",
    "dataFrame = p.DataFrame(num, columns=['number'])\n",
    "print(dataFrame)"
   ]
  },
  {
   "cell_type": "code",
   "execution_count": 110,
   "id": "86948f1c",
   "metadata": {},
   "outputs": [
    {
     "name": "stdout",
     "output_type": "stream",
     "text": [
      "{'name': 'Shakil', 'age': 28, 'city': 'Berlin', 'country': 'Germany'}\n"
     ]
    }
   ],
   "source": [
    "'''\n",
    "17. Change the value of a key in a given dictionary.\n",
    "Write a Python program to change ‘age’ to 28 in the following dictionary.\n",
    "Dict = { \"name\": \"Shakil\", \"age\":27, \"city\": “Berlin”, \"country\": \"Germany\" }\n",
    "'''\n",
    "\n",
    "dict = { \"name\": \"Shakil\", \"age\":27, \"city\": \"Berlin\", \"country\": \"Germany\" };\n",
    "dict[\"age\"] = 28;\n",
    "print(dict);"
   ]
  },
  {
   "cell_type": "code",
   "execution_count": null,
   "id": "cbd4a1ad",
   "metadata": {},
   "outputs": [],
   "source": []
  }
 ],
 "metadata": {
  "kernelspec": {
   "display_name": "Python 3 (ipykernel)",
   "language": "python",
   "name": "python3"
  },
  "language_info": {
   "codemirror_mode": {
    "name": "ipython",
    "version": 3
   },
   "file_extension": ".py",
   "mimetype": "text/x-python",
   "name": "python",
   "nbconvert_exporter": "python",
   "pygments_lexer": "ipython3",
   "version": "3.10.9"
  }
 },
 "nbformat": 4,
 "nbformat_minor": 5
}
